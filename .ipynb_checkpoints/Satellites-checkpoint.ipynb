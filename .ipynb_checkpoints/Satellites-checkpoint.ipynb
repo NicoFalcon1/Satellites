{
 "cells": [
  {
   "cell_type": "code",
   "execution_count": 1,
   "id": "451b5a50",
   "metadata": {},
   "outputs": [],
   "source": [
    "import pandas as pd\n",
    "import xgboost as xgb\n",
    "import numpy as np\n",
    "from skopt import BayesSearchCV\n",
    "from skopt.space import Real, Categorical, Integer\n",
    "from sklearn.pipeline import Pipeline\n",
    "from category_encoders.target_encoder import TargetEncoder\n",
    "from sklearn.model_selection import train_test_split\n",
    "from sklearn.preprocessing import MultiLabelBinarizer, LabelEncoder\n",
    "from sklearn.impute import SimpleImputer"
   ]
  },
  {
   "cell_type": "code",
   "execution_count": 2,
   "id": "c9c48474",
   "metadata": {},
   "outputs": [],
   "source": [
    "def fill(data, col, imp):\n",
    "    X = pd.DataFrame(df[col])\n",
    "    imp.fit(X)\n",
    "    df[col] = imp.transform(X)\n",
    "    return df"
   ]
  },
  {
   "cell_type": "code",
   "execution_count": 3,
   "id": "72492b12",
   "metadata": {},
   "outputs": [],
   "source": [
    "data_raw = pd.read_csv('UCS-Satellite-Database.csv')\n",
    "data = data_raw[data_raw.columns[2:26]].drop(['Power (watts)','Dry Mass (kg.)','COSPAR Number','Detailed Purpose'], axis=1)\n",
    "data['Country of Contractor'] = data['Country of Contractor'].str.strip()\n",
    "data['Country of Operator/Owner'] = data['Country of Operator/Owner'].str.strip()\n",
    "data['Operator/Owner'] = data['Operator/Owner'].str.strip()\n",
    "data.loc[data['Country of Contractor'] == 'Swizerland', 'Country of Contractor'] = 'Switzerland'\n",
    "data.loc[data['Country of Operator/Owner'] == 'Sinapore', 'Country of Operator/Owner'] = 'Singapore'\n",
    "data.loc[data['Country of Operator/Owner'] == 'United Kingdom', 'Country of Operator/Owner'] = 'United Kingdom'\n",
    "data.loc[data['Country of Operator/Owner'] == 'Poland/UK', 'Country of Operator/Owner'] = 'Poland/United Kingdom'\n",
    "data.loc[data['Operator/Owner'] == 'Spacex', 'Operator/Owner'] = 'SpaceX'\n",
    "data['Country/Org of UN Registry'] = data['Country/Org of UN Registry'].replace(to_replace=np.nan, value='Unknown')\n",
    "data['Type of Orbit'] = data['Type of Orbit'].replace(to_replace=np.nan, value='Unknown')\n",
    "data.loc[data['Date of Launch'] == '11/29/018','Date of Launch'] = '11/29/2018'\n",
    "data.loc[data['Date of Launch'] == '1/9//2023','Date of Launch'] = '1/9/2023'\n",
    "data = data.drop(240)"
   ]
  },
  {
   "cell_type": "code",
   "execution_count": 4,
   "id": "07d2fc0d",
   "metadata": {},
   "outputs": [],
   "source": [
    "df = data\n",
    "counts = df['Operator/Owner'].value_counts()\n",
    "unique = counts[counts <= 3].index\n",
    "df['Operator/Owner'] = df['Operator/Owner'].apply(lambda x: 'Other' if x in unique else x)\n",
    "df['Country of Operator/Owner'] = df['Country of Operator/Owner'].str.split('/')\n",
    "df['Country of Contractor'] = df['Country of Contractor'].str.split('/')\n",
    "df['Contractor'] = df['Contractor'].str.split('/')"
   ]
  },
  {
   "cell_type": "code",
   "execution_count": 5,
   "id": "03f05216",
   "metadata": {},
   "outputs": [],
   "source": [
    "mlb1 = MultiLabelBinarizer()\n",
    "mlb2 = MultiLabelBinarizer()\n",
    "mlb3 = MultiLabelBinarizer()\n",
    "country_operator_owner = pd.DataFrame(mlb1.fit_transform(df['Country of Operator/Owner']), columns=mlb1.classes_ + ' Operator/Owner', \n",
    "                       index=df['Country of Operator/Owner'].index)\n",
    "contractor_country = pd.DataFrame(mlb2.fit_transform(df['Country of Contractor']), columns=mlb2.classes_ + ' Contractor', \n",
    "                       index=df['Country of Contractor'].index)\n",
    "contractor = pd.DataFrame(mlb3.fit_transform(df['Contractor']), columns=mlb3.classes_, \n",
    "                       index=df['Contractor'].index)\n",
    "\n",
    "imp_mean = SimpleImputer(missing_values = np.nan, strategy='mean')\n",
    "imp_mode = SimpleImputer(missing_values = np.nan, strategy='most_frequent')\n",
    "\n",
    "cols = np.array(df.columns.to_series().groupby(df.dtypes).groups[np.dtype('float64')])\n",
    "means = np.delete(cols, [0,4])\n",
    "modes = cols[[0,4]]\n",
    "\n",
    "for i in means:\n",
    "    df = fill(df, i, imp_mean)\n",
    "\n",
    "for i in modes:\n",
    "    df = fill(df, i, imp_mode)\n",
    "    \n",
    "label = np.array(df.keys())[[0,2,3,4,5,6,18,19]]\n",
    "for i in label:\n",
    "    lab = LabelEncoder()\n",
    "    lab.fit(df[i])\n",
    "    df[i] = lab.transform(df[i])\n",
    "    \n",
    "df = df.merge(country_operator_owner, left_index=True,right_index=True)\n",
    "df = df.merge(contractor_country, left_index=True, right_index=True)\n",
    "df = df.merge(contractor, left_index=True, right_index=True)\n",
    "df = df.drop(['Country of Operator/Owner', 'Contractor', 'Country of Contractor'], axis=1)\n",
    "df['Date of Launch'] = pd.to_datetime(df['Date of Launch'])"
   ]
  },
  {
   "cell_type": "code",
   "execution_count": 6,
   "id": "4a37a777",
   "metadata": {},
   "outputs": [
    {
     "name": "stdout",
     "output_type": "stream",
     "text": [
      "<class 'pandas.core.frame.DataFrame'>\n",
      "Index: 7559 entries, 0 to 7559\n",
      "Columns: 765 entries, Country/Org of UN Registry to iQPS\n",
      "dtypes: datetime64[ns](1), float64(8), int64(756)\n",
      "memory usage: 44.2 MB\n"
     ]
    }
   ],
   "source": [
    "df.info()"
   ]
  },
  {
   "cell_type": "code",
   "execution_count": null,
   "id": "6b6a7508",
   "metadata": {},
   "outputs": [],
   "source": []
  }
 ],
 "metadata": {
  "kernelspec": {
   "display_name": "Python 3 (ipykernel)",
   "language": "python",
   "name": "python3"
  },
  "language_info": {
   "codemirror_mode": {
    "name": "ipython",
    "version": 3
   },
   "file_extension": ".py",
   "mimetype": "text/x-python",
   "name": "python",
   "nbconvert_exporter": "python",
   "pygments_lexer": "ipython3",
   "version": "3.9.13"
  }
 },
 "nbformat": 4,
 "nbformat_minor": 5
}

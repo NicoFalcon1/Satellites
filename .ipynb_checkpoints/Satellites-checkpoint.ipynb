{
 "cells": [
  {
   "cell_type": "code",
   "execution_count": 1,
   "id": "451b5a50",
   "metadata": {},
   "outputs": [],
   "source": [
    "import pandas as pd\n",
    "from xgboost import XGBClassifier\n",
    "import numpy as np\n",
    "from skopt import BayesSearchCV\n",
    "from skopt.space import Real, Categorical, Integer\n",
    "from sklearn.pipeline import Pipeline\n",
    "from sklearn.model_selection import train_test_split\n",
    "from sklearn.preprocessing import MultiLabelBinarizer, StandardScaler, OrdinalEncoder, TargetEncoder\n",
    "from sklearn.impute import SimpleImputer\n",
    "from sklearn.compose import ColumnTransformer\n",
    "from sklearn.base import BaseEstimator, TransformerMixin"
   ]
  },
  {
   "cell_type": "code",
   "execution_count": 2,
   "id": "7a3c7028",
   "metadata": {},
   "outputs": [],
   "source": [
    "#https://stackoverflow.com/questions/59254662/sklearn-columntransformer-with-multilabelbinarizer\n",
    "\n",
    "class MultiLabelBinarizerWrapper(BaseEstimator, TransformerMixin):\n",
    "    \"\"\"Wraps `MultiLabelBinarizer` in a form that can work with `ColumnTransformer`. Note\n",
    "    that input X has to be a `pandas.DataFrame`.\n",
    "    \"\"\"\n",
    "    def __init__(self):\n",
    "        self.mlbs = list()\n",
    "        self.n_columns = 0\n",
    "        self.categories_ = self.classes_ = list()\n",
    "\n",
    "    def fit(self, X:pd.DataFrame, y=None):\n",
    "        X_df = pd.DataFrame(X)\n",
    "        for i in range(X_df.shape[1]): # X can be of multiple columns\n",
    "            mlb = MultiLabelBinarizer()\n",
    "            mlb.fit(X_df.iloc[:,i])\n",
    "            self.mlbs.append(mlb)\n",
    "            self.classes_.append(mlb.classes_)\n",
    "            self.n_columns += 1\n",
    "        return self\n",
    "\n",
    "    def transform(self, X:pd.DataFrame, y=None):\n",
    "        X = pd.DataFrame(X)\n",
    "        if self.n_columns == 0:\n",
    "            raise ValueError('Please fit the transformer first.')\n",
    "        if self.n_columns != X.shape[1]:\n",
    "            raise ValueError(f'The fit transformer deals with {self.n_columns} columns '\n",
    "                             f'while the input has {X.shape[1]}.'\n",
    "                            )\n",
    "        result = list()\n",
    "        for i in range(self.n_columns):\n",
    "            result.append(self.mlbs[i].transform(X.iloc[:,i]))\n",
    "\n",
    "        result = np.concatenate(result, axis=1)\n",
    "        return result"
   ]
  },
  {
   "cell_type": "code",
   "execution_count": 3,
   "id": "72492b12",
   "metadata": {},
   "outputs": [],
   "source": [
    "data_raw = pd.read_csv('UCS-Satellite-Database.csv')\n",
    "data = data_raw[data_raw.columns[2:26]].drop(['Power (watts)','Dry Mass (kg.)','COSPAR Number','Detailed Purpose'], axis=1)\n",
    "data['Country of Contractor'] = data['Country of Contractor'].str.strip()\n",
    "data['Country of Operator/Owner'] = data['Country of Operator/Owner'].str.strip()\n",
    "data['Operator/Owner'] = data['Operator/Owner'].str.strip()\n",
    "data['Users'] = data['Users'].str.strip()\n",
    "data.loc[data['Country of Contractor'] == 'Swizerland', 'Country of Contractor'] = 'Switzerland'\n",
    "data.loc[data['Country of Operator/Owner'] == 'Sinapore', 'Country of Operator/Owner'] = 'Singapore'\n",
    "data.loc[data['Country of Operator/Owner'] == 'United Kingdom', 'Country of Operator/Owner'] = 'United Kingdom'\n",
    "data.loc[data['Country of Operator/Owner'] == 'Poland/UK', 'Country of Operator/Owner'] = 'Poland/United Kingdom'\n",
    "data.loc[data['Operator/Owner'] == 'Spacex', 'Operator/Owner'] = 'SpaceX'\n",
    "data['Country/Org of UN Registry'] = data['Country/Org of UN Registry'].replace(to_replace=np.nan, value='Unknown')\n",
    "data['Type of Orbit'] = data['Type of Orbit'].replace(to_replace=np.nan, value='Unknown')\n",
    "data.loc[data['Date of Launch'] == '11/29/018','Date of Launch'] = '11/29/2018'\n",
    "data.loc[data['Date of Launch'] == '1/9//2023','Date of Launch'] = '1/9/2023'\n",
    "data['Date of Launch'] = pd.to_datetime(data['Date of Launch'])\n",
    "data = data.drop(240)"
   ]
  },
  {
   "cell_type": "code",
   "execution_count": 4,
   "id": "07d2fc0d",
   "metadata": {},
   "outputs": [],
   "source": [
    "df = data\n",
    "df['Country of Operator/Owner'] = df['Country of Operator/Owner'].str.split('/')\n",
    "df['Country of Contractor'] = df['Country of Contractor'].str.split('/')\n",
    "df['Contractor'] = df['Contractor'].str.split('/')"
   ]
  },
  {
   "cell_type": "code",
   "execution_count": 7,
   "id": "2490f514",
   "metadata": {
    "scrolled": false
   },
   "outputs": [
    {
     "name": "stderr",
     "output_type": "stream",
     "text": [
      "C:\\Users\\Nico\\AppData\\Local\\Packages\\PythonSoftwareFoundation.Python.3.9_qbz5n2kfra8p0\\LocalCache\\local-packages\\Python39\\site-packages\\sklearn\\model_selection\\_split.py:805: UserWarning: The least populated class in y has only 1 members, which is less than n_splits=5.\n",
      "  warnings.warn(\n"
     ]
    },
    {
     "ename": "ValueError",
     "evalue": "Invalid classes inferred from unique values of `y`.  Expected: [ 0  1  2  3  4  5  6  7  8  9 10 11 12 13 14 15 16 17 18 19 20 21 22 23\n 24 25 26 27 28 29 30], got ['Communications' 'Communications/Maritime Tracking'\n 'Communications/Navigation' 'Communications/Technology Development'\n 'Earth Observation' 'Earth Observation '\n 'Earth Observation/Communications'\n 'Earth Observation/Communications/Space Science'\n 'Earth Observation/Earth Science' 'Earth Observation/Navigation'\n 'Earth Observation/Space Science'\n 'Earth Observation/Technology Development' 'Earth Science'\n 'Earth Science/Earth Observation' 'Earth/Space Observation' 'Educational'\n 'Meteorological' 'Mission Extension Technology'\n 'Navigation/Global Positioning' 'Navigation/Regional Positioning'\n 'Platform' 'Satellite Positioning' 'Space Observation' 'Space Science'\n 'Space Science/Technology Demonstration'\n 'Space Science/Technology Development' 'Surveillance'\n 'Technology Demonstration' 'Technology Development'\n 'Technology Development/Educational' 'Unknown']",
     "output_type": "error",
     "traceback": [
      "\u001b[1;31m---------------------------------------------------------------------------\u001b[0m",
      "\u001b[1;31mValueError\u001b[0m                                Traceback (most recent call last)",
      "Input \u001b[1;32mIn [7]\u001b[0m, in \u001b[0;36m<module>\u001b[1;34m\u001b[0m\n\u001b[0;32m     52\u001b[0m search_space \u001b[38;5;241m=\u001b[39m {\n\u001b[0;32m     53\u001b[0m     \u001b[38;5;124m'\u001b[39m\u001b[38;5;124mclf__max_depth\u001b[39m\u001b[38;5;124m'\u001b[39m: Integer(\u001b[38;5;241m2\u001b[39m, \u001b[38;5;241m8\u001b[39m),\n\u001b[0;32m     54\u001b[0m     \u001b[38;5;124m'\u001b[39m\u001b[38;5;124mclf__learning_rate\u001b[39m\u001b[38;5;124m'\u001b[39m: Real(\u001b[38;5;241m0.001\u001b[39m, \u001b[38;5;241m1.0\u001b[39m, prior \u001b[38;5;241m=\u001b[39m \u001b[38;5;124m'\u001b[39m\u001b[38;5;124mlog-uniform\u001b[39m\u001b[38;5;124m'\u001b[39m),\n\u001b[1;32m   (...)\u001b[0m\n\u001b[0;32m     61\u001b[0m     \u001b[38;5;124m'\u001b[39m\u001b[38;5;124mclf__gamma\u001b[39m\u001b[38;5;124m'\u001b[39m: Real(\u001b[38;5;241m0.0\u001b[39m, \u001b[38;5;241m10.0\u001b[39m)\n\u001b[0;32m     62\u001b[0m }\n\u001b[0;32m     64\u001b[0m \u001b[38;5;66;03m#opt_pipe = BayesSearchCV(final_pipe, search_space, cv=5, n_iter=10, scoring='roc_auc')\u001b[39;00m\n\u001b[1;32m---> 66\u001b[0m \u001b[43mfinal_pipe\u001b[49m\u001b[38;5;241;43m.\u001b[39;49m\u001b[43mfit\u001b[49m\u001b[43m(\u001b[49m\u001b[43mX_train\u001b[49m\u001b[43m,\u001b[49m\u001b[43my_train\u001b[49m\u001b[43m)\u001b[49m\n",
      "File \u001b[1;32m~\\AppData\\Local\\Packages\\PythonSoftwareFoundation.Python.3.9_qbz5n2kfra8p0\\LocalCache\\local-packages\\Python39\\site-packages\\sklearn\\base.py:1389\u001b[0m, in \u001b[0;36m_fit_context.<locals>.decorator.<locals>.wrapper\u001b[1;34m(estimator, *args, **kwargs)\u001b[0m\n\u001b[0;32m   1382\u001b[0m     estimator\u001b[38;5;241m.\u001b[39m_validate_params()\n\u001b[0;32m   1384\u001b[0m \u001b[38;5;28;01mwith\u001b[39;00m config_context(\n\u001b[0;32m   1385\u001b[0m     skip_parameter_validation\u001b[38;5;241m=\u001b[39m(\n\u001b[0;32m   1386\u001b[0m         prefer_skip_nested_validation \u001b[38;5;129;01mor\u001b[39;00m global_skip_validation\n\u001b[0;32m   1387\u001b[0m     )\n\u001b[0;32m   1388\u001b[0m ):\n\u001b[1;32m-> 1389\u001b[0m     \u001b[38;5;28;01mreturn\u001b[39;00m fit_method(estimator, \u001b[38;5;241m*\u001b[39margs, \u001b[38;5;241m*\u001b[39m\u001b[38;5;241m*\u001b[39mkwargs)\n",
      "File \u001b[1;32m~\\AppData\\Local\\Packages\\PythonSoftwareFoundation.Python.3.9_qbz5n2kfra8p0\\LocalCache\\local-packages\\Python39\\site-packages\\sklearn\\pipeline.py:662\u001b[0m, in \u001b[0;36mPipeline.fit\u001b[1;34m(self, X, y, **params)\u001b[0m\n\u001b[0;32m    656\u001b[0m     \u001b[38;5;28;01mif\u001b[39;00m \u001b[38;5;28mself\u001b[39m\u001b[38;5;241m.\u001b[39m_final_estimator \u001b[38;5;241m!=\u001b[39m \u001b[38;5;124m\"\u001b[39m\u001b[38;5;124mpassthrough\u001b[39m\u001b[38;5;124m\"\u001b[39m:\n\u001b[0;32m    657\u001b[0m         last_step_params \u001b[38;5;241m=\u001b[39m \u001b[38;5;28mself\u001b[39m\u001b[38;5;241m.\u001b[39m_get_metadata_for_step(\n\u001b[0;32m    658\u001b[0m             step_idx\u001b[38;5;241m=\u001b[39m\u001b[38;5;28mlen\u001b[39m(\u001b[38;5;28mself\u001b[39m) \u001b[38;5;241m-\u001b[39m \u001b[38;5;241m1\u001b[39m,\n\u001b[0;32m    659\u001b[0m             step_params\u001b[38;5;241m=\u001b[39mrouted_params[\u001b[38;5;28mself\u001b[39m\u001b[38;5;241m.\u001b[39msteps[\u001b[38;5;241m-\u001b[39m\u001b[38;5;241m1\u001b[39m][\u001b[38;5;241m0\u001b[39m]],\n\u001b[0;32m    660\u001b[0m             all_params\u001b[38;5;241m=\u001b[39mparams,\n\u001b[0;32m    661\u001b[0m         )\n\u001b[1;32m--> 662\u001b[0m         \u001b[38;5;28mself\u001b[39m\u001b[38;5;241m.\u001b[39m_final_estimator\u001b[38;5;241m.\u001b[39mfit(Xt, y, \u001b[38;5;241m*\u001b[39m\u001b[38;5;241m*\u001b[39mlast_step_params[\u001b[38;5;124m\"\u001b[39m\u001b[38;5;124mfit\u001b[39m\u001b[38;5;124m\"\u001b[39m])\n\u001b[0;32m    664\u001b[0m \u001b[38;5;28;01mreturn\u001b[39;00m \u001b[38;5;28mself\u001b[39m\n",
      "File \u001b[1;32m~\\AppData\\Local\\Packages\\PythonSoftwareFoundation.Python.3.9_qbz5n2kfra8p0\\LocalCache\\local-packages\\Python39\\site-packages\\xgboost\\core.py:726\u001b[0m, in \u001b[0;36mrequire_keyword_args.<locals>.throw_if.<locals>.inner_f\u001b[1;34m(*args, **kwargs)\u001b[0m\n\u001b[0;32m    724\u001b[0m \u001b[38;5;28;01mfor\u001b[39;00m k, arg \u001b[38;5;129;01min\u001b[39;00m \u001b[38;5;28mzip\u001b[39m(sig\u001b[38;5;241m.\u001b[39mparameters, args):\n\u001b[0;32m    725\u001b[0m     kwargs[k] \u001b[38;5;241m=\u001b[39m arg\n\u001b[1;32m--> 726\u001b[0m \u001b[38;5;28;01mreturn\u001b[39;00m func(\u001b[38;5;241m*\u001b[39m\u001b[38;5;241m*\u001b[39mkwargs)\n",
      "File \u001b[1;32m~\\AppData\\Local\\Packages\\PythonSoftwareFoundation.Python.3.9_qbz5n2kfra8p0\\LocalCache\\local-packages\\Python39\\site-packages\\xgboost\\sklearn.py:1559\u001b[0m, in \u001b[0;36mXGBClassifier.fit\u001b[1;34m(self, X, y, sample_weight, base_margin, eval_set, verbose, xgb_model, sample_weight_eval_set, base_margin_eval_set, feature_weights)\u001b[0m\n\u001b[0;32m   1554\u001b[0m     expected_classes \u001b[38;5;241m=\u001b[39m \u001b[38;5;28mself\u001b[39m\u001b[38;5;241m.\u001b[39mclasses_\n\u001b[0;32m   1555\u001b[0m \u001b[38;5;28;01mif\u001b[39;00m (\n\u001b[0;32m   1556\u001b[0m     classes\u001b[38;5;241m.\u001b[39mshape \u001b[38;5;241m!=\u001b[39m expected_classes\u001b[38;5;241m.\u001b[39mshape\n\u001b[0;32m   1557\u001b[0m     \u001b[38;5;129;01mor\u001b[39;00m \u001b[38;5;129;01mnot\u001b[39;00m (classes \u001b[38;5;241m==\u001b[39m expected_classes)\u001b[38;5;241m.\u001b[39mall()\n\u001b[0;32m   1558\u001b[0m ):\n\u001b[1;32m-> 1559\u001b[0m     \u001b[38;5;28;01mraise\u001b[39;00m \u001b[38;5;167;01mValueError\u001b[39;00m(\n\u001b[0;32m   1560\u001b[0m         \u001b[38;5;124mf\u001b[39m\u001b[38;5;124m\"\u001b[39m\u001b[38;5;124mInvalid classes inferred from unique values of `y`.  \u001b[39m\u001b[38;5;124m\"\u001b[39m\n\u001b[0;32m   1561\u001b[0m         \u001b[38;5;124mf\u001b[39m\u001b[38;5;124m\"\u001b[39m\u001b[38;5;124mExpected: \u001b[39m\u001b[38;5;132;01m{\u001b[39;00mexpected_classes\u001b[38;5;132;01m}\u001b[39;00m\u001b[38;5;124m, got \u001b[39m\u001b[38;5;132;01m{\u001b[39;00mclasses\u001b[38;5;132;01m}\u001b[39;00m\u001b[38;5;124m\"\u001b[39m\n\u001b[0;32m   1562\u001b[0m     )\n\u001b[0;32m   1564\u001b[0m params \u001b[38;5;241m=\u001b[39m \u001b[38;5;28mself\u001b[39m\u001b[38;5;241m.\u001b[39mget_xgb_params()\n\u001b[0;32m   1566\u001b[0m \u001b[38;5;28;01mif\u001b[39;00m \u001b[38;5;28mcallable\u001b[39m(\u001b[38;5;28mself\u001b[39m\u001b[38;5;241m.\u001b[39mobjective):\n",
      "\u001b[1;31mValueError\u001b[0m: Invalid classes inferred from unique values of `y`.  Expected: [ 0  1  2  3  4  5  6  7  8  9 10 11 12 13 14 15 16 17 18 19 20 21 22 23\n 24 25 26 27 28 29 30], got ['Communications' 'Communications/Maritime Tracking'\n 'Communications/Navigation' 'Communications/Technology Development'\n 'Earth Observation' 'Earth Observation '\n 'Earth Observation/Communications'\n 'Earth Observation/Communications/Space Science'\n 'Earth Observation/Earth Science' 'Earth Observation/Navigation'\n 'Earth Observation/Space Science'\n 'Earth Observation/Technology Development' 'Earth Science'\n 'Earth Science/Earth Observation' 'Earth/Space Observation' 'Educational'\n 'Meteorological' 'Mission Extension Technology'\n 'Navigation/Global Positioning' 'Navigation/Regional Positioning'\n 'Platform' 'Satellite Positioning' 'Space Observation' 'Space Science'\n 'Space Science/Technology Demonstration'\n 'Space Science/Technology Development' 'Surveillance'\n 'Technology Demonstration' 'Technology Development'\n 'Technology Development/Educational' 'Unknown']"
     ]
    }
   ],
   "source": [
    "num_cols = list(df.columns.to_series().groupby(df.dtypes).groups[np.dtype('float64')])\n",
    "cat_cols = list(df.columns.to_series().groupby(df.dtypes).groups[np.dtype('object')])\n",
    "\n",
    "num_mode = ['Longitude of GEO (degrees)', 'Inclination (degrees)']\n",
    "\n",
    "cat_multi = ['Country of Operator/Owner','Contractor','Country of Contractor']\n",
    "\n",
    "date_time = ['Date of Launch']\n",
    "\n",
    "cat_one = [col for col in cat_cols if col not in cat_multi]\n",
    "cat_one.remove('Purpose')\n",
    "\n",
    "num_mean = [col for col in num_cols if col not in num_mode]\n",
    "\n",
    "X = df.drop(columns=['Purpose'])\n",
    "y = df[['Purpose']]\n",
    "\n",
    "X_train, X_test, y_train, y_test = train_test_split(X,y,test_size=0.2)\n",
    "\n",
    "mean_pipe = Pipeline(steps = [\n",
    "    ('impute', SimpleImputer(strategy='mean')),\n",
    "    ('scale', StandardScaler())\n",
    "])\n",
    "mode_pipe = Pipeline(steps = [\n",
    "    ('impute', SimpleImputer(strategy = 'most_frequent'))\n",
    "])\n",
    "multi_pipe = Pipeline(steps = [\n",
    "    ('impute', SimpleImputer(strategy = 'constant', fill_value = ['Unknown'])),\n",
    "    ('MultiLabel_Binarizer', MultiLabelBinarizerWrapper())\n",
    "])\n",
    "cat_pipe = Pipeline(steps = [\n",
    "    ('impute', SimpleImputer(strategy = 'constant', fill_value = 'Unknown')),\n",
    "    ('target_encoder', TargetEncoder())\n",
    "])\n",
    "date_pipe = Pipeline(steps = [\n",
    "    ('label', OrdinalEncoder())\n",
    "])\n",
    "\n",
    "col_trans = ColumnTransformer(transformers = [\n",
    "    ('mean_pipe', mean_pipe, num_mean),\n",
    "    ('mode_pipe', mode_pipe, num_mode),\n",
    "    ('date_time', date_pipe, date_time),\n",
    "    ('multi_pipe_1', multi_pipe, cat_multi),\n",
    "    ('cat_pipe', cat_pipe, cat_one)\n",
    "])\n",
    "\n",
    "final_pipe = Pipeline(steps = [\n",
    "    ('col_trans', col_trans),\n",
    "    ('clf', XGBClassifier())\n",
    "])\n",
    "\n",
    "search_space = {\n",
    "    'clf__max_depth': Integer(2, 8),\n",
    "    'clf__learning_rate': Real(0.001, 1.0, prior = 'log-uniform'),\n",
    "    'clf__subsample': Real(0.5,1),\n",
    "    'clf__colsample_bytree': Real(0.5, 1.0),\n",
    "    'clf__colsample_bylevel': Real(0.5, 1.0),\n",
    "    'clf__colsample_bynode': Real(0.5, 1.0),\n",
    "    'clf__reg_alpha': Real(0.0, 10.0),\n",
    "    'clf__reg_lambda': Real(0.0, 10.0),\n",
    "    'clf__gamma': Real(0.0, 10.0)\n",
    "}\n",
    "\n",
    "#opt_pipe = BayesSearchCV(final_pipe, search_space, cv=5, n_iter=10, scoring='roc_auc')\n",
    "\n",
    "#final_pipe.fit(X_train,y_train) Need to Fix First"
   ]
  },
  {
   "cell_type": "code",
   "execution_count": null,
   "id": "91a92355",
   "metadata": {},
   "outputs": [],
   "source": []
  }
 ],
 "metadata": {
  "kernelspec": {
   "display_name": "Python 3 (ipykernel)",
   "language": "python",
   "name": "python3"
  },
  "language_info": {
   "codemirror_mode": {
    "name": "ipython",
    "version": 3
   },
   "file_extension": ".py",
   "mimetype": "text/x-python",
   "name": "python",
   "nbconvert_exporter": "python",
   "pygments_lexer": "ipython3",
   "version": "3.9.13"
  }
 },
 "nbformat": 4,
 "nbformat_minor": 5
}

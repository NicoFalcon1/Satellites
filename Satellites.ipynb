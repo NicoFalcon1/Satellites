{
 "cells": [
  {
   "cell_type": "code",
   "execution_count": 2,
   "id": "451b5a50",
   "metadata": {},
   "outputs": [],
   "source": [
    "import pandas as pd\n",
    "from xgboost import XGBClassifier\n",
    "import numpy as np\n",
    "from skopt import BayesSearchCV\n",
    "from skopt.space import Real, Categorical, Integer\n",
    "from sklearn.pipeline import Pipeline\n",
    "from sklearn.model_selection import train_test_split\n",
    "from sklearn.preprocessing import MultiLabelBinarizer, StandardScaler, OrdinalEncoder, TargetEncoder, OneHotEncoder, LabelEncoder\n",
    "from sklearn.impute import SimpleImputer\n",
    "from sklearn.compose import ColumnTransformer\n",
    "from sklearn.base import BaseEstimator, TransformerMixin\n",
    "from sklearn.metrics import roc_auc_score"
   ]
  },
  {
   "cell_type": "code",
   "execution_count": 84,
   "id": "0448ae89",
   "metadata": {},
   "outputs": [],
   "source": [
    "import warnings\n",
    "warnings.filterwarnings('ignore')"
   ]
  },
  {
   "cell_type": "code",
   "execution_count": 3,
   "id": "7a3c7028",
   "metadata": {},
   "outputs": [],
   "source": [
    "#https://stackoverflow.com/questions/59254662/sklearn-columntransformer-with-multilabelbinarizer\n",
    "\n",
    "class MultiLabelBinarizerWrapper(BaseEstimator, TransformerMixin):\n",
    "    \"\"\"Wraps `MultiLabelBinarizer` in a form that can work with `ColumnTransformer`. Note\n",
    "    that input X has to be a `pandas.DataFrame`.\n",
    "    \"\"\"\n",
    "    def __init__(self):\n",
    "        self.mlbs = list()\n",
    "        self.n_columns = 0\n",
    "        self.categories_ = self.classes_ = list()\n",
    "\n",
    "    def fit(self, X:pd.DataFrame, y=None):\n",
    "        X_df = pd.DataFrame(X)\n",
    "        for i in range(X_df.shape[1]): # X can be of multiple columns\n",
    "            mlb = MultiLabelBinarizer()\n",
    "            mlb.fit(X_df.iloc[:,i])\n",
    "            self.mlbs.append(mlb)\n",
    "            self.classes_.append(mlb.classes_)\n",
    "            self.n_columns += 1\n",
    "        return self\n",
    "\n",
    "    def transform(self, X:pd.DataFrame, y=None):\n",
    "        X = pd.DataFrame(X)\n",
    "        if self.n_columns == 0:\n",
    "            raise ValueError('Please fit the transformer first.')\n",
    "        if self.n_columns != X.shape[1]:\n",
    "            raise ValueError(f'The fit transformer deals with {self.n_columns} columns '\n",
    "                             f'while the input has {X.shape[1]}.'\n",
    "                            )\n",
    "        result = list()\n",
    "        for i in range(self.n_columns):\n",
    "            result.append(self.mlbs[i].transform(X.iloc[:,i]))\n",
    "\n",
    "        result = np.concatenate(result, axis=1)\n",
    "        return result"
   ]
  },
  {
   "cell_type": "code",
   "execution_count": 4,
   "id": "72492b12",
   "metadata": {},
   "outputs": [],
   "source": [
    "data_raw = pd.read_csv('UCS-Satellite-Database.csv')\n",
    "data = data_raw[data_raw.columns[2:26]].drop(['Power (watts)','Dry Mass (kg.)','COSPAR Number','Detailed Purpose', 'Date of Launch'], axis=1)\n",
    "data['Country of Contractor'] = data['Country of Contractor'].str.strip()\n",
    "data['Country of Operator/Owner'] = data['Country of Operator/Owner'].str.strip()\n",
    "data['Operator/Owner'] = data['Operator/Owner'].str.strip()\n",
    "data['Users'] = data['Users'].str.strip()\n",
    "data.loc[data['Country of Contractor'] == 'Swizerland', 'Country of Contractor'] = 'Switzerland'\n",
    "data.loc[data['Country of Operator/Owner'] == 'Sinapore', 'Country of Operator/Owner'] = 'Singapore'\n",
    "data.loc[data['Country of Operator/Owner'] == 'United Kingdom', 'Country of Operator/Owner'] = 'United Kingdom'\n",
    "data.loc[data['Country of Operator/Owner'] == 'Poland/UK', 'Country of Operator/Owner'] = 'Poland/United Kingdom'\n",
    "data.loc[data['Operator/Owner'] == 'Spacex', 'Operator/Owner'] = 'SpaceX'\n",
    "data['Country/Org of UN Registry'] = data['Country/Org of UN Registry'].replace(to_replace=np.nan, value='Unknown')\n",
    "data['Type of Orbit'] = data['Type of Orbit'].replace(to_replace=np.nan, value='Unknown')\n",
    "#data.loc[data['Date of Launch'] == '11/29/018','Date of Launch'] = '11/29/2018'\n",
    "#data.loc[data['Date of Launch'] == '1/9//2023','Date of Launch'] = '1/9/2023'\n",
    "#data['Date of Launch'] = pd.to_datetime(data['Date of Launch'])\n",
    "data = data.drop(240)"
   ]
  },
  {
   "cell_type": "code",
   "execution_count": 5,
   "id": "07d2fc0d",
   "metadata": {},
   "outputs": [],
   "source": [
    "df = data\n",
    "df['Country of Operator/Owner'] = df['Country of Operator/Owner'].str.split('/')\n",
    "df['Country of Contractor'] = df['Country of Contractor'].str.split('/')\n",
    "df['Contractor'] = df['Contractor'].str.split('/')\n",
    "\n",
    "value_counts = df['Purpose'].value_counts()\n",
    "usable_purposes = value_counts[value_counts >= 8].index\n",
    "df = df[df['Purpose'].isin(usable_purposes)]"
   ]
  },
  {
   "cell_type": "code",
   "execution_count": 26,
   "id": "06b6e790",
   "metadata": {},
   "outputs": [],
   "source": [
    "num_cols = list(df.columns.to_series().groupby(df.dtypes).groups[np.dtype('float64')])\n",
    "cat_cols = list(df.columns.to_series().groupby(df.dtypes).groups[np.dtype('object')])\n",
    "\n",
    "num_mode = ['Longitude of GEO (degrees)', 'Inclination (degrees)']\n",
    "\n",
    "cat_multi = ['Country of Operator/Owner','Contractor','Country of Contractor']\n",
    "\n",
    "cat_one = [col for col in cat_cols if col not in cat_multi]\n",
    "cat_one.remove('Purpose')\n",
    "\n",
    "num_mean = [col for col in num_cols if col not in num_mode]\n",
    "\n",
    "X = df.drop(columns=['Purpose'])\n",
    "y = df[['Purpose']]\n",
    "\n",
    "X_train, X_test, y_train, y_test = train_test_split(X, y, test_size = 0.2, random_state = 42)\n",
    "\n",
    "targ_enc = OneHotEncoder(sparse_output = False, dtype = np.int32)\n",
    "targ_enc.fit(y)\n",
    "\n",
    "y_train_enc = pd.DataFrame(targ_enc.transform(y_train), columns = targ_enc.categories_)\n",
    "y_test_enc = pd.DataFrame(targ_enc.transform(y_test), columns = targ_enc.categories_)"
   ]
  },
  {
   "cell_type": "code",
   "execution_count": 47,
   "id": "da017107",
   "metadata": {},
   "outputs": [],
   "source": [
    "train_dict = {}\n",
    "test_dict = {}\n",
    "for i, j in enumerate(y['Purpose'].unique()):\n",
    "    train_dict[j] = y_train_enc[j]\n",
    "    \n",
    "for i, j in enumerate(y['Purpose'].unique()):\n",
    "    test_dict[j] = y_test_enc[j]"
   ]
  },
  {
   "cell_type": "code",
   "execution_count": 82,
   "id": "2490f514",
   "metadata": {
    "scrolled": false
   },
   "outputs": [],
   "source": [
    "mean_pipe = Pipeline(steps = [\n",
    "    ('impute', SimpleImputer(strategy='mean')),\n",
    "    ('scale', StandardScaler())\n",
    "])\n",
    "mode_pipe = Pipeline(steps = [\n",
    "    ('impute', SimpleImputer(strategy = 'most_frequent'))\n",
    "])\n",
    "multi_pipe = Pipeline(steps = [\n",
    "    ('impute', SimpleImputer(strategy = 'constant', fill_value = ['Unknown'])),\n",
    "    ('MultiLabel_Binarizer', MultiLabelBinarizerWrapper())\n",
    "])\n",
    "cat_pipe = Pipeline(steps = [\n",
    "    ('impute', SimpleImputer(strategy = 'constant', fill_value = 'Unknown')),\n",
    "    ('target_encoder', TargetEncoder())\n",
    "])\n",
    "\n",
    "col_trans = ColumnTransformer(transformers = [\n",
    "    ('mean_pipe', mean_pipe, num_mean),\n",
    "    ('mode_pipe', mode_pipe, num_mode),\n",
    "    #('date_time', date_pipe, date_time),\n",
    "    ('multi_pipe_1', multi_pipe, cat_multi),\n",
    "    ('cat_pipe', cat_pipe, cat_one)\n",
    "])\n",
    "\n",
    "final_pipe = Pipeline(steps = [\n",
    "    ('col_trans', col_trans),\n",
    "    ('clf', XGBClassifier(random_state = 42))\n",
    "])\n",
    "\n",
    "search_space = {\n",
    "    'clf__max_depth': Integer(2, 10),\n",
    "    'clf__learning_rate': Real(0.001, 1.0, prior = 'log-uniform'),\n",
    "    'clf__subsample': Real(0.01,1),\n",
    "    'clf__colsample_bytree': Real(0.01, 1.0),\n",
    "    'clf__colsample_bylevel': Real(0.01, 1.0),\n",
    "    'clf__colsample_bynode': Real(0.01, 1.0),\n",
    "    'clf__reg_alpha': Real(0.0, 10.0),\n",
    "    'clf__reg_lambda': Real(0.0, 10.0),\n",
    "    'clf__gamma': Real(0.0, 10.0)\n",
    "}"
   ]
  },
  {
   "cell_type": "code",
   "execution_count": 85,
   "id": "b2e925cc",
   "metadata": {
    "scrolled": false
   },
   "outputs": [
    {
     "name": "stdout",
     "output_type": "stream",
     "text": [
      "Finished\n",
      "Finished\n",
      "Finished\n",
      "Finished\n",
      "Finished\n",
      "Finished\n",
      "Finished\n",
      "Finished\n",
      "Finished\n",
      "Finished\n",
      "Finished\n",
      "Finished\n"
     ]
    }
   ],
   "source": [
    "pipelines = {}\n",
    "\n",
    "for i, j in enumerate(y['Purpose'].unique()):\n",
    "    temp_pipe = BayesSearchCV(final_pipe, search_space, cv=3, random_state = 42)\n",
    "    pipelines[j] = temp_pipe.fit(X_train, train_dict[j])\n",
    "    print('Finished')"
   ]
  },
  {
   "cell_type": "code",
   "execution_count": 87,
   "id": "adfb0012",
   "metadata": {},
   "outputs": [
    {
     "name": "stdout",
     "output_type": "stream",
     "text": [
      "0.9677258895422668\n",
      "0.9665616345940172\n",
      "0.989020212196675\n",
      "0.9953419006553377\n",
      "0.9888538781980056\n",
      "0.994842566489587\n",
      "0.998502744884669\n",
      "1.0\n",
      "0.9988354959244433\n",
      "0.998669161925774\n",
      "0.9976709918488867\n",
      "0.998502744884669\n"
     ]
    }
   ],
   "source": [
    "for i, j in enumerate(pipelines.keys()):\n",
    "    print(pipelines[j].best_score_)"
   ]
  },
  {
   "cell_type": "code",
   "execution_count": 54,
   "id": "49393e55",
   "metadata": {},
   "outputs": [
    {
     "data": {
      "text/plain": [
       "OrderedDict([('clf__colsample_bylevel', 0.5),\n",
       "             ('clf__colsample_bynode', 1.0),\n",
       "             ('clf__colsample_bytree', 1.0),\n",
       "             ('clf__gamma', 0.0),\n",
       "             ('clf__learning_rate', 0.138263845331543),\n",
       "             ('clf__max_depth', 10),\n",
       "             ('clf__reg_alpha', 0.0),\n",
       "             ('clf__reg_lambda', 8.036159241145596),\n",
       "             ('clf__subsample', 0.5)])"
      ]
     },
     "execution_count": 54,
     "metadata": {},
     "output_type": "execute_result"
    }
   ],
   "source": [
    "test_pipe.best_params_"
   ]
  },
  {
   "cell_type": "code",
   "execution_count": 90,
   "id": "bdc13011",
   "metadata": {},
   "outputs": [],
   "source": [
    "predictions = {}\n",
    "for i, j in enumerate(pipelines.keys()):\n",
    "    predictions[j] = pipelines[j].predict(X_test)"
   ]
  },
  {
   "cell_type": "code",
   "execution_count": 93,
   "id": "6e4e74f9",
   "metadata": {},
   "outputs": [
    {
     "name": "stdout",
     "output_type": "stream",
     "text": [
      "Earth Observation\n"
     ]
    },
    {
     "data": {
      "text/plain": [
       "(Earth Observation,)\n",
       "True     1433\n",
       "False      70\n",
       "Name: count, dtype: int64"
      ]
     },
     "metadata": {},
     "output_type": "display_data"
    },
    {
     "name": "stdout",
     "output_type": "stream",
     "text": [
      "Technology Development\n"
     ]
    },
    {
     "data": {
      "text/plain": [
       "(Technology Development,)\n",
       "True     1452\n",
       "False      51\n",
       "Name: count, dtype: int64"
      ]
     },
     "metadata": {},
     "output_type": "display_data"
    },
    {
     "name": "stdout",
     "output_type": "stream",
     "text": [
      "Communications\n"
     ]
    },
    {
     "data": {
      "text/plain": [
       "(Communications,)\n",
       "True     1472\n",
       "False      31\n",
       "Name: count, dtype: int64"
      ]
     },
     "metadata": {},
     "output_type": "display_data"
    },
    {
     "name": "stdout",
     "output_type": "stream",
     "text": [
      "Earth Science\n"
     ]
    },
    {
     "data": {
      "text/plain": [
       "(Earth Science,)\n",
       "True    1503\n",
       "Name: count, dtype: int64"
      ]
     },
     "metadata": {},
     "output_type": "display_data"
    },
    {
     "name": "stdout",
     "output_type": "stream",
     "text": [
      "Space Science\n"
     ]
    },
    {
     "data": {
      "text/plain": [
       "(Space Science,)\n",
       "True     1484\n",
       "False      19\n",
       "Name: count, dtype: int64"
      ]
     },
     "metadata": {},
     "output_type": "display_data"
    },
    {
     "name": "stdout",
     "output_type": "stream",
     "text": [
      "Technology Demonstration\n"
     ]
    },
    {
     "data": {
      "text/plain": [
       "(Technology Demonstration,)\n",
       "True     1496\n",
       "False       7\n",
       "Name: count, dtype: int64"
      ]
     },
     "metadata": {},
     "output_type": "display_data"
    },
    {
     "name": "stdout",
     "output_type": "stream",
     "text": [
      "Unknown\n"
     ]
    },
    {
     "data": {
      "text/plain": [
       "(Unknown,)\n",
       "True     1502\n",
       "False       1\n",
       "Name: count, dtype: int64"
      ]
     },
     "metadata": {},
     "output_type": "display_data"
    },
    {
     "name": "stdout",
     "output_type": "stream",
     "text": [
      "Navigation/Global Positioning\n"
     ]
    },
    {
     "data": {
      "text/plain": [
       "(Navigation/Global Positioning,)\n",
       "True    1503\n",
       "Name: count, dtype: int64"
      ]
     },
     "metadata": {},
     "output_type": "display_data"
    },
    {
     "name": "stdout",
     "output_type": "stream",
     "text": [
      "Earth Observation/Navigation\n"
     ]
    },
    {
     "data": {
      "text/plain": [
       "(Earth Observation/Navigation,)\n",
       "True     1501\n",
       "False       2\n",
       "Name: count, dtype: int64"
      ]
     },
     "metadata": {},
     "output_type": "display_data"
    },
    {
     "name": "stdout",
     "output_type": "stream",
     "text": [
      "Space Observation\n"
     ]
    },
    {
     "data": {
      "text/plain": [
       "(Space Observation,)\n",
       "True     1502\n",
       "False       1\n",
       "Name: count, dtype: int64"
      ]
     },
     "metadata": {},
     "output_type": "display_data"
    },
    {
     "name": "stdout",
     "output_type": "stream",
     "text": [
      "Surveillance\n"
     ]
    },
    {
     "data": {
      "text/plain": [
       "(Surveillance,)\n",
       "True     1497\n",
       "False       6\n",
       "Name: count, dtype: int64"
      ]
     },
     "metadata": {},
     "output_type": "display_data"
    },
    {
     "name": "stdout",
     "output_type": "stream",
     "text": [
      "Navigation/Regional Positioning\n"
     ]
    },
    {
     "data": {
      "text/plain": [
       "(Navigation/Regional Positioning,)\n",
       "True     1499\n",
       "False       4\n",
       "Name: count, dtype: int64"
      ]
     },
     "metadata": {},
     "output_type": "display_data"
    }
   ],
   "source": [
    "for i, j in enumerate(pipelines.keys()):\n",
    "    print(j)\n",
    "    display((test_dict[j].squeeze() == predictions[j]).value_counts())"
   ]
  },
  {
   "cell_type": "code",
   "execution_count": 79,
   "id": "df1cf395",
   "metadata": {},
   "outputs": [],
   "source": [
    "test = test_dict['Communications'].squeeze()"
   ]
  },
  {
   "cell_type": "code",
   "execution_count": 81,
   "id": "6df170d2",
   "metadata": {},
   "outputs": [
    {
     "data": {
      "text/plain": [
       "True     1473\n",
       "False      30\n",
       "Name: count, dtype: int64"
      ]
     },
     "execution_count": 81,
     "metadata": {},
     "output_type": "execute_result"
    }
   ],
   "source": [
    "(test == answers).value_counts()"
   ]
  },
  {
   "cell_type": "code",
   "execution_count": null,
   "id": "662f9743",
   "metadata": {},
   "outputs": [],
   "source": []
  }
 ],
 "metadata": {
  "kernelspec": {
   "display_name": "Python 3 (ipykernel)",
   "language": "python",
   "name": "python3"
  },
  "language_info": {
   "codemirror_mode": {
    "name": "ipython",
    "version": 3
   },
   "file_extension": ".py",
   "mimetype": "text/x-python",
   "name": "python",
   "nbconvert_exporter": "python",
   "pygments_lexer": "ipython3",
   "version": "3.9.13"
  }
 },
 "nbformat": 4,
 "nbformat_minor": 5
}
